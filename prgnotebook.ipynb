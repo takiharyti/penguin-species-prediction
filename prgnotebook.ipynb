{
 "cells": [
  {
   "cell_type": "code",
   "execution_count": null,
   "id": "7890d5a7d2df4481",
   "metadata": {
    "collapsed": false
   },
   "outputs": [],
   "source": [
    "# Import all libraries being used\n",
    "import pandas as pd\n",
    "import matplotlib.pyplot as plt\n",
    "import seaborn as sb\n",
    "from sklearn.model_selection import train_test_split\n",
    "from sklearn.svm import SVC\n",
    "from sklearn.metrics import classification_report\n",
    "from sklearn.metrics import confusion_matrix\n",
    "import ipywidgets as widgets\n",
    "from IPython.display import display\n",
    "\n",
    "# df or dataframe is the variable that will store the data from the penguins_size.csv file.\n",
    "df = pd.read_csv('penguins_size.csv')\n",
    "\n",
    "# Rename the columns for convenience and more accurate representation.\n",
    "df.rename(columns={'species' : 'Species', 'island' : 'Island', 'culmen_length_mm' : 'CulmenLength (mm)', 'culmen_depth_mm' : 'CulmenDepth (mm)', 'flipper_length_mm' : 'FlipperLength (mm)', 'body_mass_g' : 'BodyMass (g)', 'sex' : 'Sex'}, inplace=True, errors='raise')\n",
    "\n",
    "# View the data after the columns have been renamed.\n",
    "print(df)"
   ]
  },
  {
   "cell_type": "code",
   "execution_count": null,
   "id": "initial_id",
   "metadata": {},
   "outputs": [],
   "source": [
    "# Drop irrelevant columns and records with missing data.\n",
    "df.drop(columns=['Island', 'Sex'], inplace=True)\n",
    "df = df.dropna()\n",
    "\n",
    "# Print to view all data values after the data has been cleaned.\n",
    "print(df)"
   ]
  },
  {
   "cell_type": "code",
   "execution_count": null,
   "id": "d9f5470fd305ff8b",
   "metadata": {
    "collapsed": false
   },
   "outputs": [],
   "source": [
    "# Create pairplot variable for the entire dataframe with emphasis on the differing species.\n",
    "df_plot = sb.pairplot(df, hue='Species')\n",
    "\n",
    "# Set the titles for the plot.\n",
    "df_plot.fig.suptitle('Penguin Pairplot', y=1.01, fontsize=20, fontweight='bold')\n"
   ]
  },
  {
   "cell_type": "code",
   "execution_count": null,
   "id": "3a43813790634737",
   "metadata": {
    "collapsed": false
   },
   "outputs": [],
   "source": [
    "# Create a violin plot variable with culmen length and species.\n",
    "sb.violinplot(x='Species', y='CulmenLength (mm)', data=df)\n",
    "plt.title('Culmen Length By Species', y=1.01, fontsize=15, fontweight='bold')"
   ]
  },
  {
   "cell_type": "code",
   "execution_count": null,
   "id": "bfba6303f3aba8f5",
   "metadata": {
    "collapsed": false
   },
   "outputs": [],
   "source": [
    "# Create datasets to isolate the subject and target variables.\n",
    "dfx = df[['CulmenLength (mm)', 'CulmenDepth (mm)', 'FlipperLength (mm)', 'BodyMass (g)']]\n",
    "dfy = df['Species']\n",
    "\n",
    "# Split the data in the dataframe for training and testing.\n",
    "trainDFX, testDFX, trainDFY, testDFY = train_test_split(dfx, dfy, test_size=0.2, random_state=40)\n",
    "\n",
    "# Train the SVM classification model with the training data.\n",
    "svm_model = SVC(kernel='linear')\n",
    "svm_model.fit(trainDFX, trainDFY)\n",
    "\n",
    "# Test the SVM classification model with the testing data and view precision and accuracy in a classification report.\n",
    "predictDFY = svm_model.predict(testDFX)\n",
    "print(classification_report(testDFY, predictDFY))"
   ]
  },
  {
   "cell_type": "code",
   "execution_count": null,
   "id": "e75c1230cd4dfc5b",
   "metadata": {
    "collapsed": false
   },
   "outputs": [],
   "source": [
    "# Create a confusion matrix variable to compare the actual and predicted results.\n",
    "confusion_matrix = confusion_matrix(testDFY, predictDFY)\n",
    "\n",
    "# Store results within a dataframe.\n",
    "confusionDF = pd.DataFrame(confusion_matrix, index=['Actual Adelie', 'Actual Chinstrap', 'Actual Gentoo'], \n",
    "                           columns=['Predicted Adelie', 'Predicted Chinstrap', 'Predicted Gentoo'])\n",
    "\n",
    "# Plot the confusion matrix and set all required labels and features.\n",
    "plt.figure(figsize = (8, 6))\n",
    "sb.heatmap(confusionDF, annot=True, fmt='d', cmap='Blues')\n",
    "plt.title('Penguin Species Prediction Confusion Matrix', fontsize=15, fontweight='bold')\n",
    "plt.xlabel('Predicted Species')\n",
    "plt.ylabel('Actual Species')\n",
    "plt.show()\n"
   ]
  },
  {
   "cell_type": "code",
   "execution_count": null,
   "id": "3b92ffa946dab188",
   "metadata": {
    "collapsed": false
   },
   "outputs": [],
   "source": [
    "# Enable user input to predict the species based on given values.\n",
    "# Create widgets for all numerical inputs.\n",
    "culmen_length_input = widgets.FloatText(description='Culmen Length (mm):', value=0, style={'description_width': '150px'})\n",
    "culmen_depth_input = widgets.FloatText(description='Culmen Depth (mm):', value=0, style={'description_width': '150px'})\n",
    "flipper_length_input = widgets.FloatText(description='Flipper Length (mm):', value=0, style={'description_width': '150px'})\n",
    "body_mass_input = widgets.FloatText(description='Body Mass (g):', value=0, style={'description_width': '150px'})\n",
    "\n",
    "# Create a button to trigger the predictor function.\n",
    "predict_button = widgets.Button(description='Predict')\n",
    "\n",
    "# Create an output display widget for the prediction.\n",
    "prediction_output = widgets.Output()\n",
    "\n",
    "# Display all the prepared widgets.\n",
    "display(culmen_length_input, culmen_depth_input, flipper_length_input, body_mass_input, predict_button, prediction_output)\n",
    "\n",
    "# Create the user input prediction function.\n",
    "def predict_user_input(b):\n",
    "    with prediction_output:\n",
    "\n",
    "        # Pull the values from the user input variables.\n",
    "        culmen_length = culmen_length_input.value\n",
    "        culmen_depth = culmen_depth_input.value\n",
    "        flipper_length = flipper_length_input.value\n",
    "        body_mass = body_mass_input.value\n",
    "\n",
    "        # Create the input record for prediction.\n",
    "        input_record = pd.DataFrame({'CulmenLength (mm)': [culmen_length],\n",
    "                                     'CulmenDepth (mm)': [culmen_depth],\n",
    "                                     'FlipperLength (mm)': [flipper_length],\n",
    "                                     'BodyMass (g)': [body_mass]})\n",
    "        \n",
    "        # Make the prediction using the transformed input record.\n",
    "        predict_input = svm_model.predict(input_record)\n",
    "\n",
    "        # Display the prediction to the user.\n",
    "        prediction_output.value = f'Predicted species: {predict_input[0]}'\n",
    "        print(prediction_output.value)\n",
    "\n",
    "# Set the action for clicking the button to run the function.\n",
    "predict_button.on_click(predict_user_input)"
   ]
  }
 ],
 "metadata": {
  "kernelspec": {
   "display_name": "Python 3 (ipykernel)",
   "language": "python",
   "name": "python3"
  },
  "language_info": {
   "codemirror_mode": {
    "name": "ipython",
    "version": 3
   },
   "file_extension": ".py",
   "mimetype": "text/x-python",
   "name": "python",
   "nbconvert_exporter": "python",
   "pygments_lexer": "ipython3",
   "version": "3.12.0"
  }
 },
 "nbformat": 4,
 "nbformat_minor": 5
}
